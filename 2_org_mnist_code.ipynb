{
  "nbformat": 4,
  "nbformat_minor": 0,
  "metadata": {
    "colab": {
      "provenance": []
    },
    "kernelspec": {
      "name": "python3",
      "display_name": "Python 3"
    },
    "language_info": {
      "name": "python"
    }
  },
  "cells": [
    {
      "cell_type": "markdown",
      "source": [
        "* mnist 코드 정리"
      ],
      "metadata": {
        "id": "siFJSOPgK7dT"
      }
    },
    {
      "cell_type": "code",
      "source": [
        "import tensorflow as tf\n",
        "from tensorflow.keras import models\n",
        "from tensorflow.keras.layers import Flatten, Dense, Dropout, Conv2D\n",
        "from tensorflow.keras.utils import plot_model\n",
        "\n",
        "mnist = tf.keras.datasets.mnist\n",
        "\n",
        "(x_train, y_train), (x_test, y_test) = mnist.load_data()\n",
        "x_train, x_test = x_train / 255.0, x_test / 255.0\n",
        "\n",
        "x_train = x_train[..., tf.newaxis].astype(\"float32\")\n",
        "x_test = x_test[..., tf.newaxis].astype(\"float32\")"
      ],
      "metadata": {
        "id": "JQ3AkwF27u0S"
      },
      "execution_count": null,
      "outputs": []
    },
    {
      "cell_type": "code",
      "source": [
        "class MyModel(Model):\n",
        "  def __init__(self):\n",
        "    super(MyModel, self).__init__()\n",
        "    self.conv1 = Conv2D(32, 3, activation='relu')\n",
        "    self.flatten = Flatten()\n",
        "    self.d1 = Dense(128, activation='relu')\n",
        "    self.dropout = Dropout(0.2)\n",
        "    self.d2 = Dense(10, activation='softmax')\n",
        "\n",
        "  def call(self, x):\n",
        "    x = self.conv1(x)\n",
        "    x = self.flatten(x)\n",
        "    x = self.d1(x)\n",
        "    x = self.dropout(x)\n",
        "    return self.d2(x)\n",
        "\n",
        "model = MyModel()"
      ],
      "metadata": {
        "id": "Dn3FouoKAIUX"
      },
      "execution_count": null,
      "outputs": []
    },
    {
      "cell_type": "code",
      "source": [
        "model.compile(optimizer='adam',loss='sparse_categorical_crossentropy',\n",
        "              metrics=['accuracy'])\n",
        "hist = model.fit(x_train, y_train, epochs=12, batch_size=512, validation_split=0.25)"
      ],
      "metadata": {
        "colab": {
          "base_uri": "https://localhost:8080/"
        },
        "id": "DbGTmD27GgOZ",
        "outputId": "f6b72177-3db3-48d0-ad48-7c636527cc9c"
      },
      "execution_count": null,
      "outputs": [
        {
          "output_type": "stream",
          "name": "stdout",
          "text": [
            "Epoch 1/12\n",
            "88/88 [==============================] - 6s 14ms/step - loss: 0.3985 - accuracy: 0.8805 - val_loss: 0.1666 - val_accuracy: 0.9503\n",
            "Epoch 2/12\n",
            "88/88 [==============================] - 1s 9ms/step - loss: 0.1405 - accuracy: 0.9584 - val_loss: 0.0983 - val_accuracy: 0.9707\n",
            "Epoch 3/12\n",
            "88/88 [==============================] - 1s 9ms/step - loss: 0.0834 - accuracy: 0.9752 - val_loss: 0.0830 - val_accuracy: 0.9751\n",
            "Epoch 4/12\n",
            "88/88 [==============================] - 1s 9ms/step - loss: 0.0589 - accuracy: 0.9830 - val_loss: 0.0693 - val_accuracy: 0.9793\n",
            "Epoch 5/12\n",
            "88/88 [==============================] - 1s 9ms/step - loss: 0.0419 - accuracy: 0.9874 - val_loss: 0.0656 - val_accuracy: 0.9805\n",
            "Epoch 6/12\n",
            "88/88 [==============================] - 1s 9ms/step - loss: 0.0331 - accuracy: 0.9902 - val_loss: 0.0588 - val_accuracy: 0.9819\n",
            "Epoch 7/12\n",
            "88/88 [==============================] - 1s 9ms/step - loss: 0.0258 - accuracy: 0.9927 - val_loss: 0.0647 - val_accuracy: 0.9807\n",
            "Epoch 8/12\n",
            "88/88 [==============================] - 1s 9ms/step - loss: 0.0207 - accuracy: 0.9940 - val_loss: 0.0629 - val_accuracy: 0.9813\n",
            "Epoch 9/12\n",
            "88/88 [==============================] - 1s 9ms/step - loss: 0.0166 - accuracy: 0.9952 - val_loss: 0.0606 - val_accuracy: 0.9822\n",
            "Epoch 10/12\n",
            "88/88 [==============================] - 1s 10ms/step - loss: 0.0139 - accuracy: 0.9961 - val_loss: 0.0662 - val_accuracy: 0.9809\n",
            "Epoch 11/12\n",
            "88/88 [==============================] - 1s 10ms/step - loss: 0.0118 - accuracy: 0.9966 - val_loss: 0.0610 - val_accuracy: 0.9827\n",
            "Epoch 12/12\n",
            "88/88 [==============================] - 1s 11ms/step - loss: 0.0098 - accuracy: 0.9974 - val_loss: 0.0593 - val_accuracy: 0.9839\n"
          ]
        }
      ]
    },
    {
      "cell_type": "code",
      "source": [
        "sc = model.evaluate(x_test, y_test)\n",
        "print(\"accuracy : \", sc[1], \"  loss : \", sc[0])"
      ],
      "metadata": {
        "colab": {
          "base_uri": "https://localhost:8080/"
        },
        "id": "x_ub4WqqIF0Y",
        "outputId": "bdc840a6-2500-43a1-8fc0-8807776e83f6"
      },
      "execution_count": null,
      "outputs": [
        {
          "output_type": "stream",
          "name": "stdout",
          "text": [
            "313/313 [==============================] - 1s 3ms/step - loss: 0.0485 - accuracy: 0.9851\n",
            "accuracy :  0.9850999712944031   loss :  0.048495665192604065\n"
          ]
        }
      ]
    },
    {
      "cell_type": "code",
      "source": [
        "import matplotlib.pyplot as plt\n",
        "\n",
        "plt.plot(hist.history['accuracy'], 'b-')\n",
        "plt.plot(hist.history['val_accuracy'], 'r--')\n",
        "plt.legend(['Train', 'Validation'], loc='lower right')\n",
        "plt.ylim([0.85,1.005])\n",
        "plt.xlabel('Epoch')\n",
        "plt.ylabel('Accuracy')\n",
        "plt.show()"
      ],
      "metadata": {
        "colab": {
          "base_uri": "https://localhost:8080/",
          "height": 449
        },
        "id": "k45ehbJ1IX8a",
        "outputId": "e5074bb2-f3be-4a95-ad4d-3a78073d5658"
      },
      "execution_count": null,
      "outputs": [
        {
          "output_type": "display_data",
          "data": {
            "text/plain": [
              "<Figure size 640x480 with 1 Axes>"
            ],
            "image/png": "[encoded data removed]"
          },
          "metadata": {}
        }
      ]
    }
  ]
}